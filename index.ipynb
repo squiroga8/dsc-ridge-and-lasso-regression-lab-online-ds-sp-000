{
 "cells": [
  {
   "cell_type": "markdown",
   "metadata": {},
   "source": [
    "# Ridge and Lasso Regression - Lab"
   ]
  },
  {
   "cell_type": "markdown",
   "metadata": {},
   "source": [
    "## Introduction"
   ]
  },
  {
   "cell_type": "markdown",
   "metadata": {},
   "source": [
    "In this lab, you'll practice your knowledge of Ridge and Lasso regression!"
   ]
  },
  {
   "cell_type": "markdown",
   "metadata": {},
   "source": [
    "## Objectives"
   ]
  },
  {
   "cell_type": "markdown",
   "metadata": {},
   "source": [
    "You will be able to:\n",
    "* Use Lasso and ridge regression in Python\n",
    "* Compare Lasso and Ridge with standard regression\n",
    "* Find optimal values of alpha for Lasso and Ridge"
   ]
  },
  {
   "cell_type": "markdown",
   "metadata": {},
   "source": [
    "## Housing Prices Data"
   ]
  },
  {
   "cell_type": "markdown",
   "metadata": {},
   "source": [
    "Let's look at yet another house pricing data set."
   ]
  },
  {
   "cell_type": "code",
   "execution_count": 1,
   "metadata": {
    "ExecuteTime": {
     "end_time": "2019-11-14T11:47:07.550283Z",
     "start_time": "2019-11-14T11:47:06.019668Z"
    }
   },
   "outputs": [],
   "source": [
    "import pandas as pd\n",
    "import numpy as np\n",
    "from sklearn.model_selection import train_test_split\n",
    "\n",
    "import warnings\n",
    "warnings.filterwarnings('ignore')\n",
    "\n",
    "df = pd.read_csv('Housing_Prices/train.csv')"
   ]
  },
  {
   "cell_type": "markdown",
   "metadata": {},
   "source": [
    "Look at df.info"
   ]
  },
  {
   "cell_type": "code",
   "execution_count": 2,
   "metadata": {
    "ExecuteTime": {
     "end_time": "2019-11-14T11:47:08.262797Z",
     "start_time": "2019-11-14T11:47:08.244521Z"
    }
   },
   "outputs": [
    {
     "name": "stdout",
     "output_type": "stream",
     "text": [
      "<class 'pandas.core.frame.DataFrame'>\n",
      "RangeIndex: 1460 entries, 0 to 1459\n",
      "Data columns (total 81 columns):\n",
      "Id               1460 non-null int64\n",
      "MSSubClass       1460 non-null int64\n",
      "MSZoning         1460 non-null object\n",
      "LotFrontage      1201 non-null float64\n",
      "LotArea          1460 non-null int64\n",
      "Street           1460 non-null object\n",
      "Alley            91 non-null object\n",
      "LotShape         1460 non-null object\n",
      "LandContour      1460 non-null object\n",
      "Utilities        1460 non-null object\n",
      "LotConfig        1460 non-null object\n",
      "LandSlope        1460 non-null object\n",
      "Neighborhood     1460 non-null object\n",
      "Condition1       1460 non-null object\n",
      "Condition2       1460 non-null object\n",
      "BldgType         1460 non-null object\n",
      "HouseStyle       1460 non-null object\n",
      "OverallQual      1460 non-null int64\n",
      "OverallCond      1460 non-null int64\n",
      "YearBuilt        1460 non-null int64\n",
      "YearRemodAdd     1460 non-null int64\n",
      "RoofStyle        1460 non-null object\n",
      "RoofMatl         1460 non-null object\n",
      "Exterior1st      1460 non-null object\n",
      "Exterior2nd      1460 non-null object\n",
      "MasVnrType       1452 non-null object\n",
      "MasVnrArea       1452 non-null float64\n",
      "ExterQual        1460 non-null object\n",
      "ExterCond        1460 non-null object\n",
      "Foundation       1460 non-null object\n",
      "BsmtQual         1423 non-null object\n",
      "BsmtCond         1423 non-null object\n",
      "BsmtExposure     1422 non-null object\n",
      "BsmtFinType1     1423 non-null object\n",
      "BsmtFinSF1       1460 non-null int64\n",
      "BsmtFinType2     1422 non-null object\n",
      "BsmtFinSF2       1460 non-null int64\n",
      "BsmtUnfSF        1460 non-null int64\n",
      "TotalBsmtSF      1460 non-null int64\n",
      "Heating          1460 non-null object\n",
      "HeatingQC        1460 non-null object\n",
      "CentralAir       1460 non-null object\n",
      "Electrical       1459 non-null object\n",
      "1stFlrSF         1460 non-null int64\n",
      "2ndFlrSF         1460 non-null int64\n",
      "LowQualFinSF     1460 non-null int64\n",
      "GrLivArea        1460 non-null int64\n",
      "BsmtFullBath     1460 non-null int64\n",
      "BsmtHalfBath     1460 non-null int64\n",
      "FullBath         1460 non-null int64\n",
      "HalfBath         1460 non-null int64\n",
      "BedroomAbvGr     1460 non-null int64\n",
      "KitchenAbvGr     1460 non-null int64\n",
      "KitchenQual      1460 non-null object\n",
      "TotRmsAbvGrd     1460 non-null int64\n",
      "Functional       1460 non-null object\n",
      "Fireplaces       1460 non-null int64\n",
      "FireplaceQu      770 non-null object\n",
      "GarageType       1379 non-null object\n",
      "GarageYrBlt      1379 non-null float64\n",
      "GarageFinish     1379 non-null object\n",
      "GarageCars       1460 non-null int64\n",
      "GarageArea       1460 non-null int64\n",
      "GarageQual       1379 non-null object\n",
      "GarageCond       1379 non-null object\n",
      "PavedDrive       1460 non-null object\n",
      "WoodDeckSF       1460 non-null int64\n",
      "OpenPorchSF      1460 non-null int64\n",
      "EnclosedPorch    1460 non-null int64\n",
      "3SsnPorch        1460 non-null int64\n",
      "ScreenPorch      1460 non-null int64\n",
      "PoolArea         1460 non-null int64\n",
      "PoolQC           7 non-null object\n",
      "Fence            281 non-null object\n",
      "MiscFeature      54 non-null object\n",
      "MiscVal          1460 non-null int64\n",
      "MoSold           1460 non-null int64\n",
      "YrSold           1460 non-null int64\n",
      "SaleType         1460 non-null object\n",
      "SaleCondition    1460 non-null object\n",
      "SalePrice        1460 non-null int64\n",
      "dtypes: float64(3), int64(35), object(43)\n",
      "memory usage: 924.0+ KB\n"
     ]
    }
   ],
   "source": [
    "# Your code here\n",
    "df.info()"
   ]
  },
  {
   "cell_type": "markdown",
   "metadata": {},
   "source": [
    "First, make a selection of the data by removing some of the data with `dtype = object`, this way our first model only contains **continuous features**\n",
    "\n",
    "Make sure to remove the SalesPrice column from the predictors (which you store in `X`).\n",
    "\n",
    "Store the target in `y`."
   ]
  },
  {
   "cell_type": "code",
   "execution_count": 3,
   "metadata": {
    "ExecuteTime": {
     "end_time": "2019-11-14T11:49:05.479078Z",
     "start_time": "2019-11-14T11:49:05.462180Z"
    }
   },
   "outputs": [],
   "source": [
    "# Create C and y, then split in train and test sets\n",
    "features = [col for col in df.columns if col != 'SalePrice']\n",
    "X = df.loc[:, features]\n",
    "y = df.loc[:, 'SalePrice']\n",
    "\n",
    "X_train, X_test, y_train, y_test = train_test_split(X, y, random_state=10)\n",
    "\n",
    "# remove \"object - type features and salesprice from X\"\n",
    "cont_features = [col for col in X.columns if X[col].dtype in [np.float64, np.int64]]\n",
    "\n",
    "X_train_cont = X_train.loc[:, cont_features]\n",
    "X_test_cont = X_test.loc[:, cont_features]"
   ]
  },
  {
   "cell_type": "code",
   "execution_count": null,
   "metadata": {
    "ExecuteTime": {
     "end_time": "2019-11-14T11:01:52.620210Z",
     "start_time": "2019-11-14T11:01:52.595825Z"
    }
   },
   "outputs": [],
   "source": [
    "# alternative method, if there was no need to re-include the categorical variables later\n",
    "#y = df['SalePrice']\n",
    "#X = df.select_dtypes(exclude=['object'])\n",
    "#X = X.drop(['SalePrice'], axis=1)\n",
    "# remove \"object\"-type features and SalesPrice from `X`\n",
    "#X_train, y_train, X_test, y_test = train_test_split(X, y, random_state=10)\n"
   ]
  },
  {
   "cell_type": "markdown",
   "metadata": {},
   "source": [
    "## Let's use this data to perform a first naive linear regression model"
   ]
  },
  {
   "cell_type": "markdown",
   "metadata": {},
   "source": [
    "Compute the R squared and the MSE for both train and test set."
   ]
  },
  {
   "cell_type": "code",
   "execution_count": 5,
   "metadata": {
    "ExecuteTime": {
     "end_time": "2019-11-14T12:00:43.075458Z",
     "start_time": "2019-11-14T12:00:42.971579Z"
    }
   },
   "outputs": [
    {
     "name": "stdout",
     "output_type": "stream",
     "text": [
      "Training r^2: 0.8069714678400265\n",
      "Testing r^2: 0.8203264293698926\n",
      "Training MSE: 1212415985.7084064\n",
      "Testing MSE: 1146350639.8805728\n"
     ]
    }
   ],
   "source": [
    "from sklearn.metrics import mean_squared_error, mean_squared_log_error\n",
    "from sklearn.linear_model import LinearRegression\n",
    "from sklearn.preprocessing import Imputer\n",
    "\n",
    "# Impute missing values with median using Imputer from sklearn.preprocessing\n",
    "impute = Imputer(strategy='median')\n",
    "impute.fit(X_train_cont)\n",
    "\n",
    "X_train_imputed = impute.transform(X_train_cont)\n",
    "X_test_imputed = impute.transform(X_test_cont)\n",
    "\n",
    "# Fit the model and print R2 and MSE for train and test\n",
    "linreg= LinearRegression()\n",
    "linreg.fit(X_train_imputed, y_train)\n",
    "\n",
    "print(\"Training r^2:\", linreg.score(X_train_imputed, y_train))\n",
    "print(\"Testing r^2:\", linreg.score(X_test_imputed, y_test))\n",
    "print(\"Training MSE:\", mean_squared_error(y_train, linreg.predict(X_train_imputed)))\n",
    "print(\"Testing MSE:\", mean_squared_error(y_test, linreg.predict(X_test_imputed)))\n"
   ]
  },
  {
   "cell_type": "markdown",
   "metadata": {},
   "source": [
    "## Normalize your data"
   ]
  },
  {
   "cell_type": "markdown",
   "metadata": {},
   "source": [
    "We haven't normalized our data, let's create a new model that uses `StandardScalar` to scale our predictors!"
   ]
  },
  {
   "cell_type": "code",
   "execution_count": 6,
   "metadata": {
    "ExecuteTime": {
     "end_time": "2019-11-14T12:05:15.921199Z",
     "start_time": "2019-11-14T12:05:15.905373Z"
    }
   },
   "outputs": [],
   "source": [
    "from sklearn.preprocessing import StandardScaler\n",
    "\n",
    "# Scale the train and test data\n",
    "ss = StandardScaler()\n",
    "ss.fit(X_train_imputed)\n",
    "\n",
    "X_train_imputed_ss = ss.transform(X_train_imputed)\n",
    "X_test_imputed_ss = ss.transform(X_test_imputed)"
   ]
  },
  {
   "cell_type": "markdown",
   "metadata": {},
   "source": [
    "Perform the same linear regression on this data and print out R-squared and MSE."
   ]
  },
  {
   "cell_type": "code",
   "execution_count": 8,
   "metadata": {
    "ExecuteTime": {
     "end_time": "2019-11-14T12:08:52.704350Z",
     "start_time": "2019-11-14T12:08:52.692561Z"
    }
   },
   "outputs": [
    {
     "name": "stdout",
     "output_type": "stream",
     "text": [
      "Training r^2 for norm: 0.8070159754195584\n",
      "Testing r^2 for norm: 0.8202405055692075\n",
      "Training MSE for norm:  1212136432.7308965\n",
      "Testing MSE for norm: 1146898849.6342442\n"
     ]
    }
   ],
   "source": [
    "# Your code here\n",
    "linreg_norm = LinearRegression()\n",
    "linreg_norm.fit(X_train_imputed_ss, y_train)\n",
    "\n",
    "print(\"Training r^2 for norm:\", linreg_norm.score(X_train_imputed_ss, y_train))\n",
    "print(\"Testing r^2 for norm:\", linreg_norm.score(X_test_imputed_ss, y_test))\n",
    "print(\"Training MSE for norm: \", mean_squared_error(y_train, linreg_norm.predict(X_train_imputed_ss)))\n",
    "print(\"Testing MSE for norm:\", mean_squared_error(y_test, linreg_norm.predict(X_test_imputed_ss)))"
   ]
  },
  {
   "cell_type": "markdown",
   "metadata": {},
   "source": [
    "## Include categorical variables"
   ]
  },
  {
   "cell_type": "markdown",
   "metadata": {},
   "source": [
    "Your model hasn't included categorical variables so far: let's use the \"object\" variables again"
   ]
  },
  {
   "cell_type": "code",
   "execution_count": 9,
   "metadata": {
    "ExecuteTime": {
     "end_time": "2019-11-14T13:05:04.753571Z",
     "start_time": "2019-11-14T13:05:04.706811Z"
    }
   },
   "outputs": [],
   "source": [
    "# Create X_cat which contains only the categorical variables\n",
    "cat_features = [col for col in X.columns if X[col].dtype in [np.object]]\n",
    "X_train_cat = X_train.loc[:, cat_features]\n",
    "X_test_cat = X_test.loc[:, cat_features]\n",
    "\n",
    "#Fill missing values with a string indicating that that it is missing\n",
    "X_train_cat.fillna(value=\"missing\", inplace=True)\n",
    "X_test_cat.fillna(value=\"missing\", inplace=True)\n"
   ]
  },
  {
   "cell_type": "code",
   "execution_count": 10,
   "metadata": {
    "ExecuteTime": {
     "end_time": "2019-11-14T13:09:04.002025Z",
     "start_time": "2019-11-14T13:09:03.932912Z"
    }
   },
   "outputs": [],
   "source": [
    "from sklearn.preprocessing import OneHotEncoder\n",
    "# OneHotEncode Categorical variables\n",
    "ohe = OneHotEncoder(handle_unknown='ignore')\n",
    "ohe.fit(X_train_cat)\n",
    "\n",
    "X_train_cat_ohe = ohe.transform(X_train_cat)\n",
    "X_test_cat_ohe = ohe.transform(X_test_cat)\n",
    "\n",
    "columns = ohe.get_feature_names(input_features = X_train_cat.columns)\n",
    "cat_train_df = pd.DataFrame(X_train_cat_ohe.todense(), columns = columns)\n",
    "cat_test_df = pd.DataFrame(X_test_cat_ohe.todense(), columns = columns)"
   ]
  },
  {
   "cell_type": "markdown",
   "metadata": {},
   "source": [
    "Merge `x_cat` together with our scaled `X` so you have one big predictor dataframe."
   ]
  },
  {
   "cell_type": "code",
   "execution_count": 11,
   "metadata": {
    "ExecuteTime": {
     "end_time": "2019-11-14T13:12:03.608562Z",
     "start_time": "2019-11-14T13:12:03.599254Z"
    }
   },
   "outputs": [],
   "source": [
    "# Your code here\n",
    "X_train_all = pd.concat([pd.DataFrame(X_train_imputed_ss), cat_train_df], axis=1)\n",
    "X_test_all = pd.concat([pd.DataFrame(X_test_imputed_ss), cat_test_df], axis=1)"
   ]
  },
  {
   "cell_type": "markdown",
   "metadata": {},
   "source": [
    "Perform the same linear regression on this data and print out R-squared and MSE."
   ]
  },
  {
   "cell_type": "code",
   "execution_count": 13,
   "metadata": {
    "ExecuteTime": {
     "end_time": "2019-11-14T13:14:56.797317Z",
     "start_time": "2019-11-14T13:14:56.757417Z"
    }
   },
   "outputs": [
    {
     "name": "stdout",
     "output_type": "stream",
     "text": [
      "Training r^2: 0.9360007807588508\n",
      "Testing r^2: -9.0338451960491e+18\n",
      "Training MSE: 401980347.7369863\n",
      "Testing MSE: 5.7637604600137055e+28\n"
     ]
    }
   ],
   "source": [
    "# Your code here\n",
    "linreg_all = LinearRegression()\n",
    "linreg_all.fit(X_train_all, y_train)\n",
    "\n",
    "print(\"Training r^2:\", linreg_all.score(X_train_all, y_train))\n",
    "print(\"Testing r^2:\", linreg_all.score(X_test_all, y_test))\n",
    "print(\"Training MSE:\", mean_squared_error(y_train, linreg_all.predict(X_train_all)))\n",
    "print(\"Testing MSE:\", mean_squared_error(y_test, linreg_all.predict(X_test_all)))"
   ]
  },
  {
   "cell_type": "markdown",
   "metadata": {},
   "source": [
    "Notice the severe overfitting above; our training R squared is quite high, but the testing R squared is negative! Our predictions are far off. Similarly, the scale of the Testing MSE is orders of magnitude higher than that of the training."
   ]
  },
  {
   "cell_type": "markdown",
   "metadata": {},
   "source": [
    "## Perform Ridge and Lasso regression"
   ]
  },
  {
   "cell_type": "markdown",
   "metadata": {},
   "source": [
    "Use all the data (normalized features and dummy categorical variables) and perform Lasso and Ridge regression for both! Each time, look at R-squared and MSE."
   ]
  },
  {
   "cell_type": "markdown",
   "metadata": {},
   "source": [
    "## Lasso"
   ]
  },
  {
   "cell_type": "markdown",
   "metadata": {},
   "source": [
    "With default parameter (alpha = 1)"
   ]
  },
  {
   "cell_type": "code",
   "execution_count": 14,
   "metadata": {
    "ExecuteTime": {
     "end_time": "2019-11-14T13:18:51.062610Z",
     "start_time": "2019-11-14T13:18:51.059532Z"
    }
   },
   "outputs": [],
   "source": [
    "from sklearn.linear_model import Lasso"
   ]
  },
  {
   "cell_type": "code",
   "execution_count": 15,
   "metadata": {
    "ExecuteTime": {
     "end_time": "2019-11-14T13:20:22.527203Z",
     "start_time": "2019-11-14T13:20:22.321351Z"
    }
   },
   "outputs": [
    {
     "name": "stdout",
     "output_type": "stream",
     "text": [
      "Training r^2: 0.9359681086176651\n",
      "Testing r^2: 0.8886841125942051\n",
      "Training MSE: 402185562.0947691\n",
      "Testing MSE: 710215967.262155\n"
     ]
    }
   ],
   "source": [
    "# Your code here\n",
    "lasso = Lasso(alpha=1)\n",
    "lasso.fit(X_train_all, y_train)\n",
    "print(\"Training r^2:\", lasso.score(X_train_all, y_train))\n",
    "print(\"Testing r^2:\", lasso.score(X_test_all, y_test))\n",
    "print(\"Training MSE:\", mean_squared_error(y_train, lasso.predict(X_train_all)))\n",
    "print(\"Testing MSE:\", mean_squared_error(y_test, lasso.predict(X_test_all)))"
   ]
  },
  {
   "cell_type": "markdown",
   "metadata": {},
   "source": [
    "With a higher regularization parameter (alpha = 10)"
   ]
  },
  {
   "cell_type": "code",
   "execution_count": 17,
   "metadata": {
    "ExecuteTime": {
     "end_time": "2019-11-14T13:22:51.353185Z",
     "start_time": "2019-11-14T13:22:51.126314Z"
    }
   },
   "outputs": [
    {
     "name": "stdout",
     "output_type": "stream",
     "text": [
      "Training r^2: 0.9343826511712741\n",
      "Testing r^2: 0.8966777526569276\n",
      "Training MSE: 412143851.3235961\n",
      "Testing MSE: 659215063.964353\n"
     ]
    }
   ],
   "source": [
    "# Your code here\n",
    "lasso_h = Lasso(alpha=10)\n",
    "lasso_h.fit(X_train_all, y_train)\n",
    "\n",
    "print(\"Training r^2:\", lasso_h.score(X_train_all, y_train))\n",
    "print(\"Testing r^2:\", lasso_h.score(X_test_all, y_test))\n",
    "print(\"Training MSE:\", mean_squared_error(y_train, lasso_h.predict(X_train_all)))\n",
    "print(\"Testing MSE:\", mean_squared_error(y_test, lasso_h.predict(X_test_all)))"
   ]
  },
  {
   "cell_type": "markdown",
   "metadata": {},
   "source": [
    "## Ridge"
   ]
  },
  {
   "cell_type": "markdown",
   "metadata": {},
   "source": [
    "With default parameter (alpha = 1)"
   ]
  },
  {
   "cell_type": "code",
   "execution_count": 18,
   "metadata": {
    "ExecuteTime": {
     "end_time": "2019-11-14T13:28:49.637277Z",
     "start_time": "2019-11-14T13:28:49.567341Z"
    }
   },
   "outputs": [
    {
     "name": "stdout",
     "output_type": "stream",
     "text": [
      "Training r^2: 0.9231940244796031\n",
      "Testing r^2: 0.884233048544421\n",
      "Training MSE: 482419834.3987995\n",
      "Testing MSE: 738614579.8334152\n"
     ]
    }
   ],
   "source": [
    "# Your code here\n",
    "from sklearn.linear_model import Ridge\n",
    "ridge = Ridge()\n",
    "ridge.fit(X_train_all, y_train)\n",
    "\n",
    "print(\"Training r^2:\", ridge.score(X_train_all, y_train))\n",
    "print(\"Testing r^2:\", ridge.score(X_test_all, y_test))\n",
    "print(\"Training MSE:\", mean_squared_error(y_train, ridge.predict(X_train_all)))\n",
    "print(\"Testing MSE:\", mean_squared_error(y_test, ridge.predict(X_test_all)))"
   ]
  },
  {
   "cell_type": "markdown",
   "metadata": {},
   "source": [
    "With default parameter (alpha = 10)"
   ]
  },
  {
   "cell_type": "code",
   "execution_count": 20,
   "metadata": {
    "ExecuteTime": {
     "end_time": "2019-11-14T13:31:03.639019Z",
     "start_time": "2019-11-14T13:31:03.617790Z"
    }
   },
   "outputs": [
    {
     "name": "stdout",
     "output_type": "stream",
     "text": [
      "Training r^2: 0.8990002650425939\n",
      "Testing r^2: 0.8834542222982166\n",
      "Training MSE: 634381310.5991352\n",
      "Testing MSE: 743583635.4522309\n"
     ]
    }
   ],
   "source": [
    "# Your code here\n",
    "ridge_h = Ridge(alpha=10)\n",
    "ridge_h.fit(X_train_all, y_train)\n",
    "\n",
    "print(\"Training r^2:\", ridge_h.score(X_train_all, y_train))\n",
    "print(\"Testing r^2:\", ridge_h.score(X_test_all, y_test))\n",
    "print(\"Training MSE:\", mean_squared_error(y_train, ridge_h.predict(X_train_all)))\n",
    "print(\"Testing MSE:\", mean_squared_error(y_test, ridge_h.predict(X_test_all)))"
   ]
  },
  {
   "cell_type": "markdown",
   "metadata": {},
   "source": [
    "## Look at the metrics, what are your main conclusions?   \n",
    "\n",
    "Conclusions here"
   ]
  },
  {
   "cell_type": "markdown",
   "metadata": {},
   "source": [
    "## Compare number of parameter estimates that are (very close to) 0 for Ridge and Lasso"
   ]
  },
  {
   "cell_type": "markdown",
   "metadata": {},
   "source": [
    "Compare with the total length of the parameter space and draw conclusions!"
   ]
  },
  {
   "cell_type": "code",
   "execution_count": 21,
   "metadata": {
    "ExecuteTime": {
     "end_time": "2019-11-14T13:38:40.135482Z",
     "start_time": "2019-11-14T13:38:40.119465Z"
    }
   },
   "outputs": [
    {
     "name": "stdout",
     "output_type": "stream",
     "text": [
      "0\n",
      "0\n"
     ]
    }
   ],
   "source": [
    "# number of Ridge params almost zero\n",
    "print(sum(abs(ridge.coef_) < 10**(-10)))\n",
    "print(sum(abs(ridge_h.coef_) < 10**(-10)))"
   ]
  },
  {
   "cell_type": "code",
   "execution_count": 22,
   "metadata": {
    "ExecuteTime": {
     "end_time": "2019-11-14T13:39:14.623086Z",
     "start_time": "2019-11-14T13:39:14.616692Z"
    }
   },
   "outputs": [
    {
     "name": "stdout",
     "output_type": "stream",
     "text": [
      "34\n",
      "77\n"
     ]
    }
   ],
   "source": [
    "# number of Lasso params almost zero\n",
    "print(sum(abs(lasso.coef_) < 100**(-10)))\n",
    "print(sum(abs(lasso_h.coef_) < 10**(-10)))"
   ]
  },
  {
   "cell_type": "markdown",
   "metadata": {},
   "source": [
    "Lasso was very effective to essentially perform variable selection and remove about 25% of the variables from your model!"
   ]
  },
  {
   "cell_type": "code",
   "execution_count": 23,
   "metadata": {
    "ExecuteTime": {
     "end_time": "2019-11-14T13:39:52.940592Z",
     "start_time": "2019-11-14T13:39:52.928518Z"
    }
   },
   "outputs": [
    {
     "data": {
      "text/plain": [
       "296"
      ]
     },
     "execution_count": 23,
     "metadata": {},
     "output_type": "execute_result"
    }
   ],
   "source": [
    "# your code here\n",
    "len(lasso_h.coef_)"
   ]
  },
  {
   "cell_type": "code",
   "execution_count": 24,
   "metadata": {
    "ExecuteTime": {
     "end_time": "2019-11-14T13:40:39.400115Z",
     "start_time": "2019-11-14T13:40:39.392783Z"
    }
   },
   "outputs": [
    {
     "data": {
      "text/plain": [
       "0.26013513513513514"
      ]
     },
     "execution_count": 24,
     "metadata": {},
     "output_type": "execute_result"
    }
   ],
   "source": [
    "sum(abs(lasso_h.coef_) < 10 **(-10)) / len(lasso_h.coef_)"
   ]
  },
  {
   "cell_type": "markdown",
   "metadata": {},
   "source": [
    "## Summary"
   ]
  },
  {
   "cell_type": "markdown",
   "metadata": {},
   "source": [
    "To bring all of our work together lets take a moment to put all of our preprocessing steps for categorical and continuous variables into one function. This function should take in our features as a dataframe `X` and target as a Series `y` and return a training and test dataframe with all of our preprocessed features along with training and test targets. "
   ]
  },
  {
   "cell_type": "code",
   "execution_count": 35,
   "metadata": {
    "ExecuteTime": {
     "end_time": "2019-11-14T14:03:41.842388Z",
     "start_time": "2019-11-14T14:03:41.831619Z"
    }
   },
   "outputs": [],
   "source": [
    "def preprocess(X, y):\n",
    "    '''Takes in features and target and implements all preprocessing steps for categorical and continuous features returning \n",
    "    train and test dataframes with targets'''\n",
    "\n",
    "    #train test split\n",
    "    X_train, X_test, y_train, y_test = train_test_split(X, y, random_state=10)\n",
    "\n",
    "    # remove \"object\"-type features and SalesPrice from `X`\n",
    "    cont_features = [col for col in X.columns if X[col].dtype in [np.float64, np.int64]]\n",
    "    \n",
    "    X_train_cont = X_train.loc[:, cont_features]\n",
    "    X_test_cont = X_test.loc[:, cont_features]\n",
    "\n",
    "    # Impute missing values with median using Imputer from sklearn.preprocessing\n",
    "    impute = Imputer(strategy=\"median\")\n",
    "    impute.fit(X_train_cont)\n",
    "    \n",
    "    X_train_cont_imputed = impute.transform(X_train_cont)\n",
    "    X_test_cont_imputed = impute.transform(X_test_cont)\n",
    "\n",
    "    # Scale the train and test data\n",
    "    ss = StandardScaler()\n",
    "    ss.fit(X_train_cont_imputed)\n",
    "    \n",
    "    X_train_cont_imputed_ss = ss.transform(X_train_cont_imputed)\n",
    "    X_test_cont_imputed_ss = ss.transform(X_test_cont_imputed)\n",
    "\n",
    "    # Create X_cat which contains only the categorical variables\n",
    "    cat_features = [col for col in X.columns if X[col].dtype in [np.object]]\n",
    "    \n",
    "    X_train_cat = X_train.loc[:, cat_features]\n",
    "    X_test_cat = X_test.loc[:, cat_features]\n",
    "\n",
    "    #Fill nans with a value indicating that that it is missing\n",
    "    X_train_cat.fillna(value=\"missing\", inplace=True)\n",
    "    X_test_cat.fillna(value=\"missing\", inplace=True)\n",
    "\n",
    "    # OneHotEncode Categorical variables\n",
    "    ohe = OneHotEncoder(handle_unknown='ignore')\n",
    "    ohe.fit(X_train_cat)\n",
    "    \n",
    "    X_train_cat_ohe = ohe.transform(X_train_cat)\n",
    "    X_test_cat_ohe = ohe.transform(X_test_cat)\n",
    "    \n",
    "    # create dataframes for categorical data sets\n",
    "    columns = ohe.get_feature_names(input_features=X_train_cat.columns)\n",
    "    cat_train_df = pd.DataFrame(X_train_cat_ohe.todense(), columns=columns)\n",
    "    cat_test_df = pd.DataFrame(X_test_cat_ohe.todense(), columns=columns)\n",
    "    \n",
    "    # combine categorical and continuous features into the final dataframe\n",
    "    X_train_all = pd.concat([pd.DataFrame(X_train_cont_imputed_ss), cat_train_df], axis=1)\n",
    "    X_test_all = pd.concat([pd.DataFrame(X_test_cont_imputed_ss), cat_test_df], axis=1)\n",
    "    \n",
    "    return X_train_all, X_test_all, y_train, y_test"
   ]
  },
  {
   "cell_type": "markdown",
   "metadata": {},
   "source": [
    "### Graph the Training and Test Error to Find Optimal Alpha Values\n",
    "\n",
    "Earlier we tested several values of alpha to see how it effected our MSE and the value of our coefficients. We could continue to guess values of alpha for our Ridge or Lasso regression one at a time to see which values minimize our loss, or we can test a range of values and pick the alpha which minimizes our MSE. Here is an example of how we would "
   ]
  },
  {
   "cell_type": "code",
   "execution_count": 36,
   "metadata": {
    "ExecuteTime": {
     "end_time": "2019-11-14T14:03:47.477249Z",
     "start_time": "2019-11-14T14:03:43.686034Z"
    }
   },
   "outputs": [],
   "source": [
    "X_train_all, X_test_all, y_train, y_test = preprocess(X, y)\n",
    "\n",
    "train_mse = []\n",
    "test_mse = []\n",
    "alphas = []\n",
    "\n",
    "for alpha in np.linspace(0, 200, num=50):\n",
    "    lasso = Lasso(alpha=alpha)\n",
    "    lasso.fit(X_train_all, y_train)\n",
    "    \n",
    "    train_preds = lasso.predict(X_train_all)\n",
    "    train_mse.append(mean_squared_error(y_train, train_preds))\n",
    "    \n",
    "    test_preds = lasso.predict(X_test_all)\n",
    "    test_mse.append(mean_squared_error(y_test, test_preds))\n",
    "    \n",
    "    alphas.append(alpha)"
   ]
  },
  {
   "cell_type": "code",
   "execution_count": 37,
   "metadata": {
    "ExecuteTime": {
     "end_time": "2019-11-14T14:04:25.638848Z",
     "start_time": "2019-11-14T14:04:24.981821Z"
    }
   },
   "outputs": [
    {
     "name": "stdout",
     "output_type": "stream",
     "text": [
      "Optimal Alpha Value: 40\n"
     ]
    },
    {
     "data": {
      "image/png": "[encoded data removed]",
      "text/plain": [
       "<Figure size 432x288 with 1 Axes>"
      ]
     },
     "metadata": {
      "needs_background": "light"
     },
     "output_type": "display_data"
    }
   ],
   "source": [
    "import matplotlib.pyplot as plt\n",
    "%matplotlib inline\n",
    "\n",
    "fig, ax = plt.subplots()\n",
    "ax.plot(alphas, train_mse, label='Train')\n",
    "ax.plot(alphas, test_mse, label='Test')\n",
    "ax.set_xlabel('Alpha')\n",
    "ax.set_ylabel('MSE')\n",
    "\n",
    "#np.argmin() returns the index of the minimum value in a list\n",
    "optimal_alpha = alphas[np.argmin(test_mse)]\n",
    "\n",
    "# add a vertical line where the testing MSE is minimized\n",
    "ax.axvline(optimal_alpha, color='black', linestyle='--')\n",
    "ax.legend();\n",
    "\n",
    "print(f'Optimal Alpha Value: {int(optimal_alpha)}')"
   ]
  },
  {
   "cell_type": "markdown",
   "metadata": {},
   "source": [
    "Take a look at this graph of our training and testing MSE against alpha. Try to explain to yourself why the shapes of the training and test curves are this way. Make sure to think about what alpha represents and how it relates to overfitting vs underfitting."
   ]
  },
  {
   "cell_type": "markdown",
   "metadata": {},
   "source": [
    "## Level Up\n",
    "If you would like more practice doing this kind of analysis try to find the optimal value of alpha for a Ridge regression."
   ]
  },
  {
   "cell_type": "code",
   "execution_count": 41,
   "metadata": {
    "ExecuteTime": {
     "end_time": "2019-11-14T14:09:44.423989Z",
     "start_time": "2019-11-14T14:09:44.026389Z"
    }
   },
   "outputs": [],
   "source": [
    "X_train_all, X_test_all, y_train, y_test = preprocess(X, y)\n",
    "\n",
    "train_mse_ridge = []\n",
    "test_mse_ridge = []\n",
    "alphas_ridge = []\n",
    "\n",
    "for alpha in np.linspace(0, 200, num=50):\n",
    "    ridge = Ridge(alpha=alpha)\n",
    "    ridge.fit(X_train_all, y_train)\n",
    "    \n",
    "    train_preds = ridge.predict(X_train_all)\n",
    "    train_mse_ridge.append(mean_squared_error(y_train, train_preds))\n",
    "    \n",
    "    test_preds = ridge.predict(X_test_all)\n",
    "    test_mse_ridge.append(mean_squared_error(y_test, test_preds))\n",
    "    \n",
    "    alphas_ridge.append(alpha)"
   ]
  },
  {
   "cell_type": "code",
   "execution_count": 43,
   "metadata": {
    "ExecuteTime": {
     "end_time": "2019-11-14T14:11:00.273664Z",
     "start_time": "2019-11-14T14:11:00.067881Z"
    }
   },
   "outputs": [
    {
     "name": "stdout",
     "output_type": "stream",
     "text": [
      "Optimal Alpha Value: 4\n"
     ]
    },
    {
     "data": {
      "image/png": "[encoded data removed]",
      "text/plain": [
       "<Figure size 432x288 with 1 Axes>"
      ]
     },
     "metadata": {
      "needs_background": "light"
     },
     "output_type": "display_data"
    }
   ],
   "source": [
    "import matplotlib.pyplot as plt\n",
    "%matplotlib inline\n",
    "\n",
    "fig, ax = plt.subplots()\n",
    "ax.plot(alphas_ridge, train_mse_ridge, label='Train')\n",
    "ax.plot(alphas_ridge, test_mse_ridge, label='Test')\n",
    "ax.set_xlabel('Alpha')\n",
    "ax.set_ylabel('MSE')\n",
    "\n",
    "#np.argmin() returns the index of the minimum value in a list\n",
    "optimal_alpha = alphas_ridge[np.argmin(test_mse_ridge)]\n",
    "\n",
    "# add a vertical line where the testing MSE is minimized\n",
    "ax.axvline(optimal_alpha, color='black', linestyle='--')\n",
    "ax.legend();\n",
    "\n",
    "print(f'Optimal Alpha Value: {int(optimal_alpha)}')"
   ]
  },
  {
   "cell_type": "code",
   "execution_count": null,
   "metadata": {},
   "outputs": [],
   "source": []
  }
 ],
 "metadata": {
  "kernelspec": {
   "display_name": "learn-env",
   "language": "python",
   "name": "learn-env"
  },
  "language_info": {
   "codemirror_mode": {
    "name": "ipython",
    "version": 3
   },
   "file_extension": ".py",
   "mimetype": "text/x-python",
   "name": "python",
   "nbconvert_exporter": "python",
   "pygments_lexer": "ipython3",
   "version": "3.6.9"
  },
  "toc": {
   "base_numbering": 1,
   "nav_menu": {},
   "number_sections": true,
   "sideBar": true,
   "skip_h1_title": false,
   "title_cell": "Table of Contents",
   "title_sidebar": "Contents",
   "toc_cell": false,
   "toc_position": {},
   "toc_section_display": true,
   "toc_window_display": false
  },
  "varInspector": {
   "cols": {
    "lenName": 16,
    "lenType": 16,
    "lenVar": 40
   },
   "kernels_config": {
    "python": {
     "delete_cmd_postfix": "",
     "delete_cmd_prefix": "del ",
     "library": "var_list.py",
     "varRefreshCmd": "print(var_dic_list())"
    },
    "r": {
     "delete_cmd_postfix": ") ",
     "delete_cmd_prefix": "rm(",
     "library": "var_list.r",
     "varRefreshCmd": "cat(var_dic_list()) "
    }
   },
   "types_to_exclude": [
    "module",
    "function",
    "builtin_function_or_method",
    "instance",
    "_Feature"
   ],
   "window_display": true
  }
 },
 "nbformat": 4,
 "nbformat_minor": 2
}
